{
  "nbformat": 4,
  "nbformat_minor": 0,
  "metadata": {
    "kernelspec": {
      "display_name": "Python 3",
      "language": "python",
      "name": "python3"
    },
    "language_info": {
      "codemirror_mode": {
        "name": "ipython",
        "version": 3
      },
      "file_extension": ".py",
      "mimetype": "text/x-python",
      "name": "python",
      "nbconvert_exporter": "python",
      "pygments_lexer": "ipython3",
      "version": "3.8.3"
    },
    "colab": {
      "name": "python_ml_v1.ipynb",
      "provenance": [],
      "toc_visible": true,
      "include_colab_link": true
    },
    "accelerator": "GPU"
  },
  "cells": [
    {
      "cell_type": "markdown",
      "metadata": {
        "id": "view-in-github",
        "colab_type": "text"
      },
      "source": [
        "<a href=\"https://colab.research.google.com/github/Nits11/github-cheat-sheet/blob/master/python_ml_v2.ipynb\" target=\"_parent\"><img src=\"https://colab.research.google.com/assets/colab-badge.svg\" alt=\"Open In Colab\"/></a>"
      ]
    },
    {
      "cell_type": "code",
      "metadata": {
        "id": "ufApITY6D5pq"
      },
      "source": [
        "import sklearn\n",
        "import scipy\n",
        "import pandas as pd\n",
        "import numpy as np\n",
        "from collections import Counter\n",
        "from sklearn.preprocessing import MinMaxScaler"
      ],
      "execution_count": 243,
      "outputs": []
    },
    {
      "cell_type": "code",
      "metadata": {
        "id": "XAYM1q2qD5pq"
      },
      "source": [
        "df = pd.read_csv(\"model_building_df.csv\", dtype = str)\n",
        "\n",
        "#convert diabetes label to 0 or 1 \n",
        "#also make a dataframe called 'labels' to use for testing\n",
        "df['diabetes'] = df['diabetes'].replace('Case', 1)\n",
        "df['diabetes'] = df['diabetes'].replace('Control', 0)\n",
        "labels = df['diabetes'].values.astype(int)\n",
        "\n",
        "#drop diabetes status from dataframe\n",
        "df = df.drop(['diabetes'], axis = 1)\n",
        "\n",
        "#make a list with the cat vars in the dataframe (all of them except 'age')\n",
        "#all of the variables, apart from age, in the model_building_df file are categorical\n",
        "cat_vars = []\n",
        "for line in df:\n",
        "    cat_vars.append(line)\n",
        "    \n",
        "cat_vars.remove('age_at_diagnosis')"
      ],
      "execution_count": 244,
      "outputs": []
    },
    {
      "cell_type": "code",
      "metadata": {
        "id": "Nj5sf46JD5pr"
      },
      "source": [
        "#this section is for converting age to a categorical variable if desired (optional)\n",
        "ages = df['age_at_diagnosis'].astype(dtype = 'float').values\n",
        "\n",
        "def age2cat(age):\n",
        "    if age < 40:\n",
        "        return '0'\n",
        "    elif 40 <= age < 50:\n",
        "        return '1'\n",
        "    elif 50 <= age < 60:\n",
        "        return '2'\n",
        "    else:\n",
        "        return '3'\n",
        "\n",
        "new_ages = []\n",
        "for age in ages:\n",
        "    new_age = age2cat(age)\n",
        "    new_ages.append(new_age)\n",
        "new_ages = np.array(new_ages)\n",
        "\n",
        "df['cat_age'] = new_ages\n",
        "cat_vars.append('cat_age')\n",
        "cat_df = df[cat_vars]"
      ],
      "execution_count": 245,
      "outputs": []
    },
    {
      "cell_type": "code",
      "metadata": {
        "id": "YxlTmSyuD5pr"
      },
      "source": [
        "#encoding of the cat variables\n",
        "#ohe_cat_vars is the dataset that will be used\n",
        "from sklearn.preprocessing import OneHotEncoder\n",
        "\n",
        "ohe = OneHotEncoder(categories = 'auto')\n",
        "ohe_cat_vars = ohe.fit_transform(cat_df).toarray()\n",
        "\n",
        "#these steps make a list called 'new_feature_names' that will be used later to show the top features for the model\n",
        "feature_names = ohe.get_feature_names()\n",
        "\n",
        "new_feature_names = []\n",
        "for each in feature_names:\n",
        "    nm, lvl = each.split(\"_\")\n",
        "    idx = int(nm[1:])\n",
        "    cat_name = cat_vars[idx]\n",
        "    new_feature_name = \"{}_{}\".format(cat_name, lvl)\n",
        "    new_feature_names.append(new_feature_name)"
      ],
      "execution_count": 246,
      "outputs": []
    },
    {
      "cell_type": "code",
      "metadata": {
        "colab": {
          "base_uri": "https://localhost:8080/"
        },
        "id": "RvgrYx7uD5pr",
        "outputId": "51205110-aee0-46d5-af4c-0f5abfaaed99"
      },
      "source": [
        "#oversampling step because the dataset is imbalanced\n",
        "#the documentation for imblearn and RandomOverSampler specifically can be found here: https://imbalanced-learn.org/stable/generated/imblearn.over_sampling.RandomOverSampler.html\n",
        "#this method randomly draws samples from the minority class without replacement until the number of majority/minority samples is approximately the same\n",
        "#if desired, there are other oversampling methods in the imblearn package \n",
        "\n",
        "from imblearn.over_sampling import RandomOverSampler\n",
        "from sklearn.model_selection import train_test_split\n",
        "\n",
        "oversample = RandomOverSampler(sampling_strategy = \"minority\")\n",
        "model_vars_over, labels_over = oversample.fit_resample(ohe_cat_vars, labels)\n",
        "\n",
        "#train test split, stratified by class\n",
        "train_x, test_x, train_y, test_y = train_test_split(model_vars_over, labels_over, test_size = 0.2, random_state = 42, shuffle = True, stratify = labels_over)"
      ],
      "execution_count": 247,
      "outputs": [
        {
          "output_type": "stream",
          "text": [
            "/usr/local/lib/python3.6/dist-packages/sklearn/utils/deprecation.py:87: FutureWarning: Function safe_indexing is deprecated; safe_indexing is deprecated in version 0.22 and will be removed in version 0.24.\n",
            "  warnings.warn(msg, category=FutureWarning)\n"
          ],
          "name": "stderr"
        }
      ]
    },
    {
      "cell_type": "code",
      "metadata": {
        "id": "tohGZ63mD5pr"
      },
      "source": [
        "#cross-validation step\n",
        "#different scoring parameters can be used (e.g. 'f1', 'precision', 'recall', etc.)\n",
        "#n_splits = 5 means five-fold CV\n",
        "\n",
        "from sklearn.model_selection import RandomizedSearchCV\n",
        "from sklearn.model_selection import StratifiedKFold\n",
        "\n",
        "def five_fold_CV(clf, params, dx, dy):\n",
        "    cv_model = RandomizedSearchCV(clf, params, scoring = 'f1', n_jobs = -1,\n",
        "                                  cv = StratifiedKFold(n_splits = 5, shuffle = True, random_state = 42),\n",
        "                                  verbose = 1,  n_iter = 20, refit = True)\n",
        "\n",
        "    cv_model.fit(dx, dy)\n",
        "\n",
        "    return cv_model.best_estimator_, cv_model.best_score_"
      ],
      "execution_count": 248,
      "outputs": []
    },
    {
      "cell_type": "code",
      "metadata": {
        "id": "qVgYuqUUD5pr"
      },
      "source": [
        "#defining the plot_auc_roc and get_Younden_idx functions that will be called by the roc_auc_analysis function\n",
        "\n",
        "import matplotlib.pyplot as plt\n",
        "\n",
        "def plot_auc_roc(fpr, tpr):\n",
        "    plt.figure()\n",
        "    lw = 2\n",
        "    plt.plot(fpr, tpr, color='darkorange',\n",
        "             lw=lw, label='ROC curve (area = {:0.4f})'.format(auc(fpr, tpr)))\n",
        "    plt.plot([0, 1], [0, 1], color='navy', lw=lw, linestyle='--')\n",
        "    plt.xlim([0.0, 1.0])\n",
        "    plt.ylim([0.0, 1.05])\n",
        "    plt.xlabel('False Positive Rate')\n",
        "    plt.ylabel('True Positive Rate')\n",
        "    plt.title('Receiver operating characteristic example')\n",
        "    plt.legend(loc=\"lower right\")\n",
        "    plt.show()\n",
        "    \n",
        "def get_Younden_idx(fpr, tpr, threshold):\n",
        "    idx = np.argmax(np.abs(tpr-fpr))\n",
        "    return threshold[idx]"
      ],
      "execution_count": 249,
      "outputs": []
    },
    {
      "cell_type": "code",
      "metadata": {
        "id": "R8b4kdnlD5pr"
      },
      "source": [
        "#this function plots the roc curve and reads out various metrics (e.g. precision, recall, etc.)\n",
        "#notice the difference between the variables 'preds' and 'pred_labels'\n",
        "#preds being probabilities and pred_labels being the predicted classifier (1 or 0)\n",
        "\n",
        "from sklearn.metrics import precision_score\n",
        "from sklearn.metrics import recall_score\n",
        "from sklearn.metrics import roc_auc_score\n",
        "from sklearn.metrics import roc_auc_score, roc_curve, auc, accuracy_score\n",
        "\n",
        "def roc_auc_analysis(clf, dx, dy):\n",
        "    preds = clf.predict_proba(dx)\n",
        "    pred_labels = clf.predict(dx)\n",
        "    preds = list(map(lambda x: x[-1], preds))\n",
        "    fpr, tpr, threshold = roc_curve(dy, preds)\n",
        "    plot_auc_roc(fpr, tpr)\n",
        "    print(\"first three predicted probabilities: \", preds[:3])\n",
        "    print(\"roc_auc_score: \", roc_auc_score(dy, preds))\n",
        "   \n",
        "    #applying the Younden index to increase accuracy (we can exclude this from the final model probably)\n",
        "    J  = get_Younden_idx(fpr, tpr, threshold)\n",
        "    print(\"Youden index: \", J)\n",
        "    youden_preds = list(map(lambda x: 1 if x >= J else 0, preds))\n",
        "    print(\"first three youden predicted results: \", youden_preds[:3])          \n",
        "    print(\"accuracy after apply youden index: \", accuracy_score(dy, youden_preds))\n",
        "   \n",
        "    #traditional evaluation metrics (feel free to add more)\n",
        "    print(\"precision: \", precision_score(dy, pred_labels, average = 'macro'))\n",
        "    print(\"recall: \", recall_score(dy, pred_labels, average = 'macro'))\n",
        "\n",
        "\n",
        "    if isinstance(clf, LogisticRegression):\n",
        "        cof = clf.coef_.tolist()[0]\n",
        "        cof_idx = list(zip(cof, range(len(cof))))\n",
        "        top_5_fea = sorted(cof_idx, key=lambda x: abs(x[0]), reverse=True)[:5]\n",
        "    elif isinstance(clf, RandomForestClassifier):\n",
        "       fea_imp = clf.feature_importances_\n",
        "       top_5_fea = sorted(list(zip(fea_imp, range(len(fea_imp)))), key=lambda x: abs(x[0]), reverse=True)[:5]\n",
        "    elif isinstance(clf, XGBClassifier):\n",
        "        fea_imp = clf.feature_importances_\n",
        "        top_5_fea = sorted(list(zip(fea_imp, range(len(fea_imp)))), key=lambda x: abs(x[0]), reverse=True)[:5]\n",
        "    else: # SVM\n",
        "        # for SVM with RGB kernel, this is no straightforward way to get feature improtance\n",
        "        # https://stats.stackexchange.com/questions/265656/is-there-a-way-to-determine-the-important-features-weight-for-an-svm-that-uses\n",
        "        pass\n",
        "        top_5_fea = []\n",
        "    \n",
        "    #shows top 5 features (this can be expanded to include more features, you have to tweak the number in the brackets at the end of the top_5_fea variable in the if statements above)\n",
        "    #you also have to tweak the number in the parantheses of the round() below\n",
        "    print(\"top 5 features: \", list(map(lambda x: (new_feature_names[x[1]], round(x[0], 4)), top_5_fea)))"
      ],
      "execution_count": 44,
      "outputs": []
    },
    {
      "cell_type": "code",
      "metadata": {
        "colab": {
          "base_uri": "https://localhost:8080/",
          "height": 715
        },
        "id": "cO9oVudQD5pr",
        "outputId": "c6b14afe-7dda-413c-8a99-5c9eeb32245b"
      },
      "source": [
        "#logistic regression\n",
        "#As of yet, I have not found default parameters for the search space.\n",
        "#Because of this, I'm just using the distributions that Mr. Yang used in the previous lecture for logistic regression\n",
        "\n",
        "from sklearn.linear_model import LogisticRegression\n",
        "\n",
        "lr = LogisticRegression(solver = \"saga\", max_iter = 100, random_state=13)\n",
        "\n",
        "#define search space hyperparameter ranges\n",
        "params_lr = {'max_iter': [10, 50, 100, 200, 500, 750, 1000], \n",
        "                    'tol': [0.0001, 0.001, 0.01, 0.1],\n",
        "                    'C': [0.01, 0.1, 1.0, 5.0, 10.0, 25.0, 50.0, 100.0],\n",
        "                    'solver': ['lbfgs', 'liblinear', 'newton-cg'], \n",
        "                    'class_weight': [None, 'balanced']}\n",
        "\n",
        "best_lr_model, best_cv_performance = five_fold_CV(lr, params_lr, train_x, train_y)\n",
        "best_lr_model, best_cv_performance = five_fold_CV(lr, params_lr, test_x, test_y)\n",
        "\n",
        "roc_auc_analysis(best_lr_model, test_x, test_y)"
      ],
      "execution_count": 250,
      "outputs": [
        {
          "output_type": "stream",
          "text": [
            "Fitting 5 folds for each of 20 candidates, totalling 100 fits\n"
          ],
          "name": "stdout"
        },
        {
          "output_type": "stream",
          "text": [
            "[Parallel(n_jobs=-1)]: Using backend LokyBackend with 2 concurrent workers.\n",
            "[Parallel(n_jobs=-1)]: Done  90 tasks      | elapsed:    1.8s\n",
            "[Parallel(n_jobs=-1)]: Done 100 out of 100 | elapsed:    1.9s finished\n",
            "[Parallel(n_jobs=-1)]: Using backend LokyBackend with 2 concurrent workers.\n"
          ],
          "name": "stderr"
        },
        {
          "output_type": "stream",
          "text": [
            "Fitting 5 folds for each of 20 candidates, totalling 100 fits\n"
          ],
          "name": "stdout"
        },
        {
          "output_type": "stream",
          "text": [
            "[Parallel(n_jobs=-1)]: Done 100 out of 100 | elapsed:    0.8s finished\n",
            "/usr/local/lib/python3.6/dist-packages/sklearn/linear_model/_logistic.py:940: ConvergenceWarning: lbfgs failed to converge (status=1):\n",
            "STOP: TOTAL NO. of ITERATIONS REACHED LIMIT.\n",
            "\n",
            "Increase the number of iterations (max_iter) or scale the data as shown in:\n",
            "    https://scikit-learn.org/stable/modules/preprocessing.html\n",
            "Please also refer to the documentation for alternative solver options:\n",
            "    https://scikit-learn.org/stable/modules/linear_model.html#logistic-regression\n",
            "  extra_warning_msg=_LOGISTIC_SOLVER_CONVERGENCE_MSG)\n"
          ],
          "name": "stderr"
        },
        {
          "output_type": "display_data",
          "data": {
            "image/png": "[encoded data removed]",
            "text/plain": [
              "<Figure size 432x288 with 1 Axes>"
            ]
          },
          "metadata": {
            "tags": []
          }
        },
        {
          "output_type": "stream",
          "text": [
            "first three predicted probabilities:  [0.22831466096583325, 0.24358716807246944, 0.2322538841394654]\n",
            "roc_auc_score:  0.9399874319229158\n",
            "Youden index:  0.4262193200815267\n",
            "first three youden predicted results:  [0, 0, 0]\n",
            "accuracy after apply youden index:  0.8964401294498382\n",
            "precision:  0.8970376639864579\n",
            "recall:  0.8930456640134059\n",
            "top 5 features:  [('malaise_and_fatigue_0', -0.1754), ('malaise_and_fatigue_1', 0.1737), ('pure_hypercholesterolemia_0', -0.1705), ('pure_hypercholesterolemia_1', 0.1688), ('lipid_panel_0', -0.1451)]\n"
          ],
          "name": "stdout"
        }
      ]
    },
    {
      "cell_type": "markdown",
      "metadata": {
        "id": "jsq89t2zD5ps"
      },
      "source": [
        "# XGBoost"
      ]
    },
    {
      "cell_type": "code",
      "metadata": {
        "id": "L5FE_8G0D5ps"
      },
      "source": [
        "# XGBClassifier(base_score=0.5, booster='gbtree', colsample_bylevel=1,\n",
        "#               colsample_bynode=1, colsample_bytree=1, gamma=0, gpu_id=-1,\n",
        "#               importance_type='gain', interaction_constraints='',\n",
        "#               learning_rate=0.300000012, max_delta_step=0, max_depth=6,\n",
        "#               min_child_weight=1, missing=nan, monotone_constraints='()',\n",
        "#               n_estimators=100, n_jobs=0, num_parallel_tree=1, random_state=0,\n",
        "#               reg_alpha=0, reg_lambda=1, scale_pos_weight=5, subsample=1,\n",
        "#               tree_method='exact', validate_parameters=1, verbosity=None)"
      ],
      "execution_count": null,
      "outputs": []
    },
    {
      "cell_type": "code",
      "metadata": {
        "colab": {
          "base_uri": "https://localhost:8080/",
          "height": 528
        },
        "id": "BejLY9WYD5ps",
        "outputId": "27cee932-7d16-4cfa-fa91-addca753a771"
      },
      "source": [
        "from xgboost import XGBClassifier\n",
        "\n",
        "xgb = XGBClassifier()\n",
        "\n",
        "#define search space hyperparameter ranges\n",
        "params_xgb = {'n_estimators': [10, 50, 100], \n",
        "                    'max_depth': [3, 6, 10],\n",
        "                    'learning_rate': [0.1, 0.3, 0.5]}\n",
        "\n",
        "best_xgb_model, best_cv_performance = five_fold_CV(xgb, params_xgb, train_x, train_y)\n",
        "\n",
        "roc_auc_analysis(best_xgb_model, test_x, test_y)"
      ],
      "execution_count": 251,
      "outputs": [
        {
          "output_type": "stream",
          "text": [
            "Fitting 5 folds for each of 20 candidates, totalling 100 fits\n"
          ],
          "name": "stdout"
        },
        {
          "output_type": "stream",
          "text": [
            "[Parallel(n_jobs=-1)]: Using backend LokyBackend with 2 concurrent workers.\n",
            "[Parallel(n_jobs=-1)]: Done  46 tasks      | elapsed:    6.5s\n",
            "[Parallel(n_jobs=-1)]: Done 100 out of 100 | elapsed:   11.0s finished\n"
          ],
          "name": "stderr"
        },
        {
          "output_type": "display_data",
          "data": {
            "image/png": "[encoded data removed]",
            "text/plain": [
              "<Figure size 432x288 with 1 Axes>"
            ]
          },
          "metadata": {
            "tags": []
          }
        },
        {
          "output_type": "stream",
          "text": [
            "first three predicted probabilities:  [0.0041516167, 0.08773391, 0.012165126]\n",
            "roc_auc_score:  0.9906786761625471\n",
            "Youden index:  0.31801784\n",
            "first three youden predicted results:  [0, 0, 0]\n",
            "accuracy after apply youden index:  0.9773462783171522\n",
            "precision:  0.9585798816568047\n",
            "recall:  0.9545454545454546\n",
            "top 5 features:  [('pure_hypercholesterolemia_0', 0.3256), ('atrial_fibrillation_0', 0.1271), ('congestive_heart_failure_0', 0.0673), ('cat_age_0', 0.0608), ('malaise_and_fatigue_0', 0.0533)]\n"
          ],
          "name": "stdout"
        }
      ]
    },
    {
      "cell_type": "code",
      "metadata": {
        "id": "jz1VZxOZD5ps",
        "outputId": "6889ad89-e8ad-49eb-d2c0-87040f3c9c77"
      },
      "source": [
        "# Calculate F1 score\n",
        "from sklearn.metrics import f1_score\n",
        "\n",
        "y_pred = best_xgb_model.predict(test_x)\n",
        "y_true = test_y\n",
        "f1_score(y_true, y_pred)"
      ],
      "execution_count": null,
      "outputs": [
        {
          "output_type": "execute_result",
          "data": {
            "text/plain": [
              "0.9463087248322148"
            ]
          },
          "metadata": {
            "tags": []
          },
          "execution_count": 14
        }
      ]
    },
    {
      "cell_type": "code",
      "metadata": {
        "colab": {
          "base_uri": "https://localhost:8080/",
          "height": 288
        },
        "id": "Z62kG9u9D5pt",
        "outputId": "ede3f9d9-bcaf-4a53-a481-ffc3a93834be"
      },
      "source": [
        "#plot confusion matrix\n",
        "from sklearn.metrics import confusion_matrix\n",
        "from sklearn.metrics import plot_confusion_matrix\n",
        "\n",
        "# print(confusion_matrix(y_true, y_pred))\n",
        "\n",
        "plot_confusion_matrix(best_xgb_model, test_x, test_y);\n",
        "plt.grid(False)"
      ],
      "execution_count": 252,
      "outputs": [
        {
          "output_type": "display_data",
          "data": {
            "image/png": "[encoded data removed]",
            "text/plain": [
              "<Figure size 432x288 with 2 Axes>"
            ]
          },
          "metadata": {
            "tags": []
          }
        }
      ]
    },
    {
      "cell_type": "code",
      "metadata": {
        "id": "GeC14JhDD5pt"
      },
      "source": [
        "# Extract top 10 impostant features \n",
        "f_imp = sorted(zip(best_xgb_model.feature_importances_, new_feature_names))[::-1][:20]"
      ],
      "execution_count": 254,
      "outputs": []
    },
    {
      "cell_type": "code",
      "metadata": {
        "colab": {
          "base_uri": "https://localhost:8080/",
          "height": 510
        },
        "id": "iGgAs35aD5pt",
        "outputId": "cd00bd71-1cf1-4331-bd6a-9091ca90ba67"
      },
      "source": [
        "# plot feature importance\n",
        "import matplotlib.pyplot as plt\n",
        "import seaborn as sns\n",
        "\n",
        "sns.set(rc={'lines.linewidth': 1, 'lines.markersize': 10})\n",
        "sns.set(style=\"darkgrid\", font_scale=1.1)\n",
        "\n",
        "plt.figure(figsize=(5, 8))\n",
        "\n",
        "plt.barh([i[1] for i in f_imp], [i[0] for i in f_imp])\n",
        "plt.xlabel('Importance', fontsize=18)\n",
        "plt.ylabel('Feature', fontsize=18)\n",
        "plt.show()"
      ],
      "execution_count": 255,
      "outputs": [
        {
          "output_type": "display_data",
          "data": {
            "image/png": "[encoded data removed]",
            "text/plain": [
              "<Figure size 360x576 with 1 Axes>"
            ]
          },
          "metadata": {
            "tags": []
          }
        }
      ]
    },
    {
      "cell_type": "markdown",
      "metadata": {
        "id": "UJ7tra4UEvsm"
      },
      "source": [
        "##__Random Forest Classifier__"
      ]
    },
    {
      "cell_type": "code",
      "metadata": {
        "id": "HagjYF6vD5pt"
      },
      "source": [
        "#Import Required Functions\n",
        "from sklearn.ensemble import RandomForestClassifier\n",
        "rf = RandomForestClassifier(random_state = 42)\n",
        "from pprint import pprint\n"
      ],
      "execution_count": 61,
      "outputs": []
    },
    {
      "cell_type": "markdown",
      "metadata": {
        "id": "oJmif82mzhDk"
      },
      "source": [
        "##Additional functions to evaluate and compare model Performances"
      ]
    },
    {
      "cell_type": "code",
      "metadata": {
        "id": "v0RrwnUWStFL"
      },
      "source": [
        "from sklearn import model_selection\n",
        "\n",
        "metrics = ['accuracy', 'precision', 'recall', 'f1', 'roc_auc']\n",
        "# https://scikit-learn.org/stable/modules/generated/sklearn.model_selection.cross_validate.html\n",
        "# scoring metrics from cross validation\n",
        "scoring_metrics = ['test_' + x for x in metrics]\n",
        "# needs to be outside function to ensure every model uses the same cv splits for measuring model performance\n",
        "kfold = model_selection.StratifiedKFold(n_splits = 5, shuffle = True, random_state = 42)\n",
        "\n",
        "# create function to return cv results for a given model. That way we would not have to loop\n",
        "# through multiple models anytime we'd like to test a new model\n",
        "def get_model_metrics(model,dx, dy):\n",
        "\n",
        "    cv_results = model_selection.cross_validate(\n",
        "        model, dx, dy, cv=kfold, scoring=metrics)\n",
        "    df = pd.DataFrame(columns=['Metric', 'Value'])\n",
        "    for metric in scoring_metrics:\n",
        "        score_value = round(cv_results[metric].mean(), 2)\n",
        "        df = df.append({'Metric': metric, 'Value': score_value}, \n",
        "                 ignore_index=True)\n",
        "       # print(metric, round(score_value, 2))\n",
        "    return(df)\n",
        "    \n",
        "\n",
        "# Define a function to compare the model accuracy\n",
        "def get_model_comparison(base_model,tuned_model,dx,dy):\n",
        "  base_model_accuracy = get_model_metrics(base_model, dx, dy)\n",
        "  tuned_model_accuracy = get_model_metrics(tuned_model, dx, dy)\n",
        "  a= tuned_model_accuracy.iloc[:,0]\n",
        "  b= round((tuned_model_accuracy.iloc[:,1]- base_model_accuracy.iloc[:,1])/base_model_accuracy.iloc[:,1] *100,3)\n",
        "  res = \"\\n\".join(\"{} {}\".format(x, y) for x, y in zip(a, b))\n",
        "  print(\"\\n\",\"Inprovement in metrics:\")\n",
        "  print(res)  "
      ],
      "execution_count": 218,
      "outputs": []
    },
    {
      "cell_type": "code",
      "metadata": {
        "colab": {
          "base_uri": "https://localhost:8080/"
        },
        "id": "rxC_C89FE_rI",
        "outputId": "042c2de5-fb64-452d-dd2a-5d7440b94a74"
      },
      "source": [
        "#Check defalut parameters\n",
        "print('Parameters currently in use:\\n')\n",
        "pprint(rf.get_params())"
      ],
      "execution_count": 62,
      "outputs": [
        {
          "output_type": "stream",
          "text": [
            "Parameters currently in use:\n",
            "\n",
            "{'bootstrap': True,\n",
            " 'ccp_alpha': 0.0,\n",
            " 'class_weight': None,\n",
            " 'criterion': 'gini',\n",
            " 'max_depth': None,\n",
            " 'max_features': 'auto',\n",
            " 'max_leaf_nodes': None,\n",
            " 'max_samples': None,\n",
            " 'min_impurity_decrease': 0.0,\n",
            " 'min_impurity_split': None,\n",
            " 'min_samples_leaf': 1,\n",
            " 'min_samples_split': 2,\n",
            " 'min_weight_fraction_leaf': 0.0,\n",
            " 'n_estimators': 100,\n",
            " 'n_jobs': None,\n",
            " 'oob_score': False,\n",
            " 'random_state': 42,\n",
            " 'verbose': 0,\n",
            " 'warm_start': False}\n"
          ],
          "name": "stdout"
        }
      ]
    },
    {
      "cell_type": "markdown",
      "metadata": {
        "id": "dHbXHZdiFS9Y"
      },
      "source": [
        "We tried to fine tune few parameters:\n",
        "* n_estimators = number of trees in the foreset\n",
        "* max_features = max number of features considered for splitting a node\n",
        "* max_depth = max number of levels in each decision tree\n",
        "* min_samples_split = min number of data points placed in a node before the node is split\n",
        "* min_samples_leaf = min number of data points allowed in a leaf node\n",
        "* bootstrap = method for sampling data points (with or without replacement)"
      ]
    },
    {
      "cell_type": "markdown",
      "metadata": {
        "id": "SRFKCpRiGfEQ"
      },
      "source": [
        "###First use the random grid search to narrow down the paramteres"
      ]
    },
    {
      "cell_type": "code",
      "metadata": {
        "colab": {
          "base_uri": "https://localhost:8080/"
        },
        "id": "Ttukv2G5Gdma",
        "outputId": "25ba01d1-8b7c-4f10-f85f-0c0339652baa"
      },
      "source": [
        "# Number of trees in random forest\n",
        "n_estimators = [int(x) for x in np.linspace(start = 100, stop = 1000, num = 10)]\n",
        "# Number of features to consider at every split\n",
        "max_features = ['auto', 'sqrt']\n",
        "# Maximum number of levels in tree\n",
        "max_depth = [int(x) for x in np.linspace(10, 110, num = 11)]\n",
        "max_depth.append(None)\n",
        "# Minimum number of samples required to split a node\n",
        "min_samples_split = [2, 5, 10]\n",
        "# Minimum number of samples required at each leaf node\n",
        "min_samples_leaf = [1, 2, 4]\n",
        "# Method of selecting samples for training each tree\n",
        "bootstrap = [True, False]\n",
        "#scoring criteria\n",
        "score = ['gini', 'entropy']\n",
        "# Create the random grid\n",
        "random_grid = {'n_estimators': n_estimators,\n",
        "               'max_features': max_features,\n",
        "               'max_depth': max_depth,\n",
        "               'min_samples_split': min_samples_split,\n",
        "               'min_samples_leaf': min_samples_leaf,\n",
        "               'bootstrap': bootstrap,\n",
        "               'criterion' : score}\n",
        "pprint(random_grid)"
      ],
      "execution_count": 172,
      "outputs": [
        {
          "output_type": "stream",
          "text": [
            "{'bootstrap': [True, False],\n",
            " 'criterion': ['gini', 'entropy'],\n",
            " 'max_depth': [10, 20, 30, 40, 50, 60, 70, 80, 90, 100, 110, None],\n",
            " 'max_features': ['auto', 'sqrt'],\n",
            " 'min_samples_leaf': [1, 2, 4],\n",
            " 'min_samples_split': [2, 5, 10],\n",
            " 'n_estimators': [100, 200, 300, 400, 500, 600, 700, 800, 900, 1000]}\n"
          ],
          "name": "stdout"
        }
      ]
    },
    {
      "cell_type": "code",
      "metadata": {
        "colab": {
          "base_uri": "https://localhost:8080/"
        },
        "id": "ovExmDvjHKYa",
        "outputId": "c24a70af-4b62-45f9-c094-aaed83e6cb44"
      },
      "source": [
        "# Use previously defined Random grid seach croos-fold validation\n",
        "# def five_fold_CV(clf, params, dx, dy):\n",
        "#     cv_model = RandomizedSearchCV(clf, params, scoring = 'f1', n_jobs = -1,\n",
        "#                                   cv = StratifiedKFold(n_splits = 5, shuffle = True, random_state = 42),\n",
        "#                                   verbose = 1,  n_iter = 20)\n",
        "\n",
        "#     cv_model.fit(dx, dy)\n",
        "\n",
        "#     return cv_model.best_estimator_, cv_model.best_score_\n",
        "\n",
        "best_rf_model, best_rf_cv_performance = five_fold_CV(rf, random_grid, train_x, train_y)\n",
        "\n"
      ],
      "execution_count": 173,
      "outputs": [
        {
          "output_type": "stream",
          "text": [
            "Fitting 5 folds for each of 20 candidates, totalling 100 fits\n"
          ],
          "name": "stdout"
        },
        {
          "output_type": "stream",
          "text": [
            "[Parallel(n_jobs=-1)]: Using backend LokyBackend with 2 concurrent workers.\n",
            "[Parallel(n_jobs=-1)]: Done  46 tasks      | elapsed:   24.4s\n",
            "[Parallel(n_jobs=-1)]: Done 100 out of 100 | elapsed:  1.1min finished\n"
          ],
          "name": "stderr"
        },
        {
          "output_type": "stream",
          "text": [
            "RandomForestClassifier(bootstrap=False, ccp_alpha=0.0, class_weight=None,\n",
            "                       criterion='entropy', max_depth=90, max_features='auto',\n",
            "                       max_leaf_nodes=None, max_samples=None,\n",
            "                       min_impurity_decrease=0.0, min_impurity_split=None,\n",
            "                       min_samples_leaf=1, min_samples_split=2,\n",
            "                       min_weight_fraction_leaf=0.0, n_estimators=600,\n",
            "                       n_jobs=None, oob_score=False, random_state=42, verbose=0,\n",
            "                       warm_start=False)\n"
          ],
          "name": "stdout"
        },
        {
          "output_type": "execute_result",
          "data": {
            "text/plain": [
              "0.9552622600205295"
            ]
          },
          "metadata": {
            "tags": []
          },
          "execution_count": 173
        }
      ]
    },
    {
      "cell_type": "code",
      "metadata": {
        "colab": {
          "base_uri": "https://localhost:8080/",
          "height": 357
        },
        "id": "ds_OzvcgqLpi",
        "outputId": "9878993a-08e7-439b-99d1-11f8f49ddbeb"
      },
      "source": [
        "print ( \"Best performance score of best model in random search\", round(best_rf_cv_performance,3))\n",
        "print ( \"Best performance metrics of best model on training data\")\n",
        "print(get_model_metrics(best_rf_model, train_x, train_y))\n",
        "\n",
        "print ( \"Best performance metrics of best model on test data\")\n",
        "get_model_metrics(best_rf_model, test_x, test_y)"
      ],
      "execution_count": 216,
      "outputs": [
        {
          "output_type": "stream",
          "text": [
            "Best performance score of best model in random search 0.955\n",
            "Best performance metrics of best model on training data\n",
            "           Metric  Value\n",
            "0   test_accuracy   0.96\n",
            "1  test_precision   0.98\n",
            "2     test_recall   0.93\n",
            "3         test_f1   0.96\n",
            "4    test_roc_auc   0.99\n",
            "Best performance metrics of best model on test data\n"
          ],
          "name": "stdout"
        },
        {
          "output_type": "execute_result",
          "data": {
            "text/html": [
              "<div>\n",
              "<style scoped>\n",
              "    .dataframe tbody tr th:only-of-type {\n",
              "        vertical-align: middle;\n",
              "    }\n",
              "\n",
              "    .dataframe tbody tr th {\n",
              "        vertical-align: top;\n",
              "    }\n",
              "\n",
              "    .dataframe thead th {\n",
              "        text-align: right;\n",
              "    }\n",
              "</style>\n",
              "<table border=\"1\" class=\"dataframe\">\n",
              "  <thead>\n",
              "    <tr style=\"text-align: right;\">\n",
              "      <th></th>\n",
              "      <th>Metric</th>\n",
              "      <th>Value</th>\n",
              "    </tr>\n",
              "  </thead>\n",
              "  <tbody>\n",
              "    <tr>\n",
              "      <th>0</th>\n",
              "      <td>test_accuracy</td>\n",
              "      <td>0.89</td>\n",
              "    </tr>\n",
              "    <tr>\n",
              "      <th>1</th>\n",
              "      <td>test_precision</td>\n",
              "      <td>0.92</td>\n",
              "    </tr>\n",
              "    <tr>\n",
              "      <th>2</th>\n",
              "      <td>test_recall</td>\n",
              "      <td>0.86</td>\n",
              "    </tr>\n",
              "    <tr>\n",
              "      <th>3</th>\n",
              "      <td>test_f1</td>\n",
              "      <td>0.89</td>\n",
              "    </tr>\n",
              "    <tr>\n",
              "      <th>4</th>\n",
              "      <td>test_roc_auc</td>\n",
              "      <td>0.95</td>\n",
              "    </tr>\n",
              "  </tbody>\n",
              "</table>\n",
              "</div>"
            ],
            "text/plain": [
              "           Metric  Value\n",
              "0   test_accuracy   0.89\n",
              "1  test_precision   0.92\n",
              "2     test_recall   0.86\n",
              "3         test_f1   0.89\n",
              "4    test_roc_auc   0.95"
            ]
          },
          "metadata": {
            "tags": []
          },
          "execution_count": 216
        }
      ]
    },
    {
      "cell_type": "markdown",
      "metadata": {
        "id": "CSVNdrhEk8bn"
      },
      "source": [
        "###Compare performance with base model to fine tuned model"
      ]
    },
    {
      "cell_type": "code",
      "metadata": {
        "colab": {
          "base_uri": "https://localhost:8080/"
        },
        "id": "LVytsNY0kjTN",
        "outputId": "68226584-595e-4944-a37e-0b67c47bdb9c"
      },
      "source": [
        "#Base model accuracy \n",
        "baseRF_model = RandomForestClassifier(n_estimators = 10, random_state = 42)\n",
        "baseRF_model.fit(train_x, train_y)\n"
      ],
      "execution_count": 210,
      "outputs": [
        {
          "output_type": "stream",
          "text": [
            "\n",
            " Inprovement in metrics:\n",
            "test_accuracy 3.488\n",
            "test_precision 1.099\n",
            "test_recall 6.173\n",
            "test_f1 4.706\n",
            "test_roc_auc 2.151\n"
          ],
          "name": "stdout"
        }
      ]
    },
    {
      "cell_type": "code",
      "metadata": {
        "colab": {
          "base_uri": "https://localhost:8080/"
        },
        "id": "Cz3MwdkX6G-P",
        "outputId": "f2f08eb0-6cff-4c57-a765-ac0570283a3f"
      },
      "source": [
        "#Comparison on Training data\n",
        "get_model_comparison(baseRF_model,best_rf_model, train_x, train_y)"
      ],
      "execution_count": 219,
      "outputs": [
        {
          "output_type": "stream",
          "text": [
            "\n",
            " Inprovement in metrics:\n",
            "test_accuracy 2.128\n",
            "test_precision 0.0\n",
            "test_recall 3.333\n",
            "test_f1 2.128\n",
            "test_roc_auc 1.02\n"
          ],
          "name": "stdout"
        }
      ]
    },
    {
      "cell_type": "code",
      "metadata": {
        "colab": {
          "base_uri": "https://localhost:8080/"
        },
        "id": "KAeCDtYX6H0E",
        "outputId": "20691dee-171d-425f-bff6-1fff67a82262"
      },
      "source": [
        "#Comparison on Test  data\n",
        "get_model_comparison(baseRF_model,best_rf_model, test_x, test_y)"
      ],
      "execution_count": 220,
      "outputs": [
        {
          "output_type": "stream",
          "text": [
            "\n",
            " Inprovement in metrics:\n",
            "test_accuracy 3.488\n",
            "test_precision 1.099\n",
            "test_recall 6.173\n",
            "test_f1 4.706\n",
            "test_roc_auc 2.151\n"
          ],
          "name": "stdout"
        }
      ]
    },
    {
      "cell_type": "markdown",
      "metadata": {
        "id": "WQvr3_OKl7gr"
      },
      "source": [
        "### Further try to improve with more exhuastive grid search"
      ]
    },
    {
      "cell_type": "code",
      "metadata": {
        "id": "1AkPuJtUVTjV"
      },
      "source": [
        "from sklearn.model_selection import GridSearchCV\n",
        "# Create the parameter grid based on the results of random search \n",
        "param_grid = {\n",
        "    'bootstrap': [True, False],\n",
        "    'max_depth': [80, 90, 100, 110],\n",
        "    'max_features': [2, 3],\n",
        "    'min_samples_leaf': [2, 3, 4, 5],\n",
        "    'min_samples_split': [2, 5, 10 ],\n",
        "    'n_estimators': [ 300,600, 1000],\n",
        "    'criterion': ['entropy']\n",
        "}\n",
        "\n",
        "# Instantiate the grid search model\n",
        "grid_search = GridSearchCV(estimator = rf, param_grid = param_grid,\n",
        "                           scoring = 'f1',\n",
        "                           cv = StratifiedKFold(n_splits = 5, shuffle = True, random_state = 42),\n",
        "                           n_jobs = -1, verbose = 2)"
      ],
      "execution_count": 199,
      "outputs": []
    },
    {
      "cell_type": "code",
      "metadata": {
        "colab": {
          "base_uri": "https://localhost:8080/"
        },
        "id": "ZM2WWvEiQ8Af",
        "outputId": "e3a771ef-2cab-46a2-b556-f340b903dc0d"
      },
      "source": [
        "#Fit the model , Use prefit, will take a while to run\n",
        "grid_search.fit(train_x, train_y)\n",
        "best_grid_rf_model, best_grid_rf_cv_performance = grid_search.best_estimator_, grid_search.best_score_\n"
      ],
      "execution_count": 200,
      "outputs": [
        {
          "output_type": "stream",
          "text": [
            "Fitting 5 folds for each of 576 candidates, totalling 2880 fits\n"
          ],
          "name": "stdout"
        },
        {
          "output_type": "stream",
          "text": [
            "[Parallel(n_jobs=-1)]: Using backend LokyBackend with 2 concurrent workers.\n",
            "[Parallel(n_jobs=-1)]: Done  37 tasks      | elapsed:   29.0s\n",
            "[Parallel(n_jobs=-1)]: Done 158 tasks      | elapsed:  2.1min\n",
            "[Parallel(n_jobs=-1)]: Done 361 tasks      | elapsed:  4.8min\n",
            "[Parallel(n_jobs=-1)]: Done 644 tasks      | elapsed:  8.6min\n",
            "[Parallel(n_jobs=-1)]: Done 1009 tasks      | elapsed: 13.3min\n",
            "[Parallel(n_jobs=-1)]: Done 1454 tasks      | elapsed: 19.2min\n",
            "[Parallel(n_jobs=-1)]: Done 1981 tasks      | elapsed: 25.1min\n",
            "[Parallel(n_jobs=-1)]: Done 2588 tasks      | elapsed: 32.1min\n",
            "[Parallel(n_jobs=-1)]: Done 2880 out of 2880 | elapsed: 35.5min finished\n"
          ],
          "name": "stderr"
        }
      ]
    },
    {
      "cell_type": "code",
      "metadata": {
        "id": "uoDN2Naju2Qh"
      },
      "source": [
        "#Compare the model parameters from two fine-tuning approaches\n",
        "# Best Model parameters from Grid search \n",
        "print ( \"Best performance score of best model in random search\", round(best_grid_rf_cv_performance,3))\n",
        "\n"
      ],
      "execution_count": null,
      "outputs": []
    },
    {
      "cell_type": "markdown",
      "metadata": {
        "id": "aG9mjRHt8uLJ"
      },
      "source": [
        "### Evaluate Model parameters from all tested models"
      ]
    },
    {
      "cell_type": "code",
      "metadata": {
        "colab": {
          "base_uri": "https://localhost:8080/"
        },
        "id": "wlVfFwRy8nJp",
        "outputId": "31ec4956-f92c-4d55-afad-3960107328c8"
      },
      "source": [
        "#Model parameters of Base model \n",
        "print(baseRF_model)\n",
        "# Best Model parameters from Random search \n",
        "print(best_rf_model)\n",
        "\n",
        "# Best Model parameters from Grid search \n",
        "print(best_grid_rf_model)"
      ],
      "execution_count": 237,
      "outputs": [
        {
          "output_type": "stream",
          "text": [
            "RandomForestClassifier(bootstrap=True, ccp_alpha=0.0, class_weight=None,\n",
            "                       criterion='gini', max_depth=None, max_features='auto',\n",
            "                       max_leaf_nodes=None, max_samples=None,\n",
            "                       min_impurity_decrease=0.0, min_impurity_split=None,\n",
            "                       min_samples_leaf=1, min_samples_split=2,\n",
            "                       min_weight_fraction_leaf=0.0, n_estimators=10,\n",
            "                       n_jobs=None, oob_score=False, random_state=42, verbose=0,\n",
            "                       warm_start=False)\n",
            "RandomForestClassifier(bootstrap=False, ccp_alpha=0.0, class_weight=None,\n",
            "                       criterion='entropy', max_depth=90, max_features='auto',\n",
            "                       max_leaf_nodes=None, max_samples=None,\n",
            "                       min_impurity_decrease=0.0, min_impurity_split=None,\n",
            "                       min_samples_leaf=1, min_samples_split=2,\n",
            "                       min_weight_fraction_leaf=0.0, n_estimators=600,\n",
            "                       n_jobs=None, oob_score=False, random_state=42, verbose=0,\n",
            "                       warm_start=False)\n",
            "RandomForestClassifier(bootstrap=False, ccp_alpha=0.0, class_weight=None,\n",
            "                       criterion='entropy', max_depth=80, max_features=3,\n",
            "                       max_leaf_nodes=None, max_samples=None,\n",
            "                       min_impurity_decrease=0.0, min_impurity_split=None,\n",
            "                       min_samples_leaf=2, min_samples_split=2,\n",
            "                       min_weight_fraction_leaf=0.0, n_estimators=600,\n",
            "                       n_jobs=None, oob_score=False, random_state=42, verbose=0,\n",
            "                       warm_start=False)\n"
          ],
          "name": "stdout"
        }
      ]
    },
    {
      "cell_type": "markdown",
      "metadata": {
        "id": "1J72vHbq8ZPQ"
      },
      "source": [
        "##Coparisons of Performance metrix for best model on Train data"
      ]
    },
    {
      "cell_type": "code",
      "metadata": {
        "colab": {
          "base_uri": "https://localhost:8080/"
        },
        "id": "HiNXPvcwrHq2",
        "outputId": "98790807-9b81-4c88-ad9f-2ee98aee72c7"
      },
      "source": [
        "\n",
        "print(\"Comparison of  metrics of best model on Train data\",\"\\n\")\n",
        "print(\"Base Model Metrics:\",\"\\n\", get_model_metrics(baseRF_model, train_x, train_y))\n",
        "print(\"Best Grid search Model Metrics:\",\"\\n\", get_model_metrics(best_grid_rf_model, train_x, train_y))\n",
        "print(\"Best Random search Model Metrics:\",\"\\n\",get_model_metrics(best_rf_model, train_x, train_y))\n",
        "\n",
        "\n"
      ],
      "execution_count": 235,
      "outputs": [
        {
          "output_type": "stream",
          "text": [
            "Comparison of  metrics of best model on Train data \n",
            "\n",
            "Base Model Metrics: \n",
            "            Metric  Value\n",
            "0   test_accuracy   0.94\n",
            "1  test_precision   0.98\n",
            "2     test_recall   0.90\n",
            "3         test_f1   0.94\n",
            "4    test_roc_auc   0.98\n",
            "Best Grid search Model Metrics: \n",
            "            Metric  Value\n",
            "0   test_accuracy   0.94\n",
            "1  test_precision   0.97\n",
            "2     test_recall   0.92\n",
            "3         test_f1   0.94\n",
            "4    test_roc_auc   0.98\n",
            "Best Random search Model Metrics: \n",
            "            Metric  Value\n",
            "0   test_accuracy   0.96\n",
            "1  test_precision   0.98\n",
            "2     test_recall   0.93\n",
            "3         test_f1   0.96\n",
            "4    test_roc_auc   0.99\n"
          ],
          "name": "stdout"
        }
      ]
    },
    {
      "cell_type": "code",
      "metadata": {
        "colab": {
          "base_uri": "https://localhost:8080/"
        },
        "id": "mkuvd18r-IU4",
        "outputId": "c36b2fd6-3727-4b4a-bfe5-e87bda8149e7"
      },
      "source": [
        "print(\"Coparative % improvemet in Random search model from base model:\",\"\\n\") \n",
        "print(get_model_comparison(baseRF_model, best_rf_model, train_x, train_y))\n",
        "print(\"\\n\", \"Coparative % improvemet in Grid search model from base model:\")\n",
        "print(get_model_comparison(baseRF_model, best_grid_rf_model, train_x, train_y))\n",
        "print(\"\\n\",\"Coparative % improvemet in Random search model from Grid search model model:\")\n",
        "print(get_model_comparison(best_grid_rf_model,best_rf_model, train_x, train_y))\n"
      ],
      "execution_count": 234,
      "outputs": [
        {
          "output_type": "stream",
          "text": [
            "Coparative % improvemet in Random search model from base model: \n",
            "\n",
            "\n",
            " Inprovement in metrics:\n",
            "test_accuracy 2.128\n",
            "test_precision 0.0\n",
            "test_recall 3.333\n",
            "test_f1 2.128\n",
            "test_roc_auc 1.02\n",
            "None\n",
            "\n",
            " Coparative % improvemet in Grid search model from base model:\n",
            "\n",
            " Inprovement in metrics:\n",
            "test_accuracy 0.0\n",
            "test_precision -1.02\n",
            "test_recall 2.222\n",
            "test_f1 0.0\n",
            "test_roc_auc 0.0\n",
            "None\n",
            "\n",
            " Coparative % improvemet in Random search model from Grid search model model:\n",
            "\n",
            " Inprovement in metrics:\n",
            "test_accuracy 2.128\n",
            "test_precision 1.031\n",
            "test_recall 1.087\n",
            "test_f1 2.128\n",
            "test_roc_auc 1.02\n",
            "None\n"
          ],
          "name": "stdout"
        }
      ]
    },
    {
      "cell_type": "markdown",
      "metadata": {
        "id": "ClVmOJPC8bx4"
      },
      "source": [
        "##Coparisons of Performance metrix for best model on Test data"
      ]
    },
    {
      "cell_type": "code",
      "metadata": {
        "colab": {
          "base_uri": "https://localhost:8080/"
        },
        "id": "kTvP07i58Ktf",
        "outputId": "d7afbec9-d9b6-4a6e-aae8-b204d440788f"
      },
      "source": [
        "\n",
        "print(\"Comparison of  metrics of best model on Test data\",\"\\n\")\n",
        "print(\"Base Model Metrics:\",\"\\n\", get_model_metrics(baseRF_model, test_x, test_y))\n",
        "print(\"Best Grid search Model Metrics:\",\"\\n\", get_model_metrics(best_grid_rf_model, test_x, test_y))\n",
        "print(\"Best Random search Model Metrics:\",\"\\n\",get_model_metrics(best_rf_model, test_x, test_y))\n",
        "\n",
        "print(\"Coparative % improvemet in Random search model from base model:\",\"\\n\") \n",
        "print(get_model_comparison(baseRF_model, best_rf_model, test_x, test_y))\n",
        "print(\"\\n\", \"Coparative % improvemet in Grid search model from base model:\")\n",
        "print(get_model_comparison(baseRF_model, best_grid_rf_model, test_x, test_y))\n",
        "print(\"\\n\",\"Coparative % improvemet in Random search model from Grid search model model:\")\n",
        "print(get_model_comparison(best_grid_rf_model,best_rf_model, test_x, test_y))\n",
        "\n",
        "\n"
      ],
      "execution_count": 236,
      "outputs": [
        {
          "output_type": "stream",
          "text": [
            "Comparison of  metrics of best model on Test data \n",
            "\n",
            "Base Model Metrics: \n",
            "            Metric  Value\n",
            "0   test_accuracy   0.86\n",
            "1  test_precision   0.91\n",
            "2     test_recall   0.81\n",
            "3         test_f1   0.85\n",
            "4    test_roc_auc   0.93\n",
            "Best Grid search Model Metrics: \n",
            "            Metric  Value\n",
            "0   test_accuracy   0.88\n",
            "1  test_precision   0.91\n",
            "2     test_recall   0.84\n",
            "3         test_f1   0.87\n",
            "4    test_roc_auc   0.94\n",
            "Best Random search Model Metrics: \n",
            "            Metric  Value\n",
            "0   test_accuracy   0.89\n",
            "1  test_precision   0.92\n",
            "2     test_recall   0.86\n",
            "3         test_f1   0.89\n",
            "4    test_roc_auc   0.95\n",
            "Coparative % improvemet in Random search model from base model: \n",
            "\n",
            "\n",
            " Inprovement in metrics:\n",
            "test_accuracy 3.488\n",
            "test_precision 1.099\n",
            "test_recall 6.173\n",
            "test_f1 4.706\n",
            "test_roc_auc 2.151\n",
            "None\n",
            "\n",
            " Coparative % improvemet in Grid search model from base model:\n",
            "\n",
            " Inprovement in metrics:\n",
            "test_accuracy 2.326\n",
            "test_precision 0.0\n",
            "test_recall 3.704\n",
            "test_f1 2.353\n",
            "test_roc_auc 1.075\n",
            "None\n",
            "\n",
            " Coparative % improvemet in Random search model from Grid search model model:\n",
            "\n",
            " Inprovement in metrics:\n",
            "test_accuracy 1.136\n",
            "test_precision 1.099\n",
            "test_recall 2.381\n",
            "test_f1 2.299\n",
            "test_roc_auc 1.064\n",
            "None\n"
          ],
          "name": "stdout"
        }
      ]
    },
    {
      "cell_type": "markdown",
      "metadata": {
        "id": "aVCF8MZ3rlqg"
      },
      "source": [
        "##Performance metrix of overall best Model: \n",
        "Best Model of Random Search \n",
        "\n"
      ]
    },
    {
      "cell_type": "code",
      "metadata": {
        "colab": {
          "base_uri": "https://localhost:8080/"
        },
        "id": "bSvoQF61YZ3G",
        "outputId": "3f3616ba-3393-462c-a761-6495da26cdd2"
      },
      "source": [
        "from sklearn import metrics\n",
        "y_pred_class = best_rf_model.predict(test_x)\n",
        "print(\"Accuracy:\", metrics.accuracy_score(test_y, y_pred_class).round(2))\n",
        "print(\"F1:\", metrics.f1_score(test_y, y_pred_class).round(2))\n",
        "print(\"ROC-AUC:\", metrics.roc_auc_score(test_y, y_pred_class).round(2))\n",
        "print(\"Precision:\", metrics.precision_score(test_y, y_pred_class).round(2))\n",
        "\n"
      ],
      "execution_count": 238,
      "outputs": [
        {
          "output_type": "stream",
          "text": [
            "Accuracy: 0.97\n",
            "F1: 0.97\n",
            "ROC-AUC: 0.97\n",
            "Precision: 1.0\n"
          ],
          "name": "stdout"
        }
      ]
    },
    {
      "cell_type": "markdown",
      "metadata": {
        "id": "ZISQrsGmsuJw"
      },
      "source": [
        "###Plot curve for ROC- AUC analysis"
      ]
    },
    {
      "cell_type": "code",
      "metadata": {
        "colab": {
          "base_uri": "https://localhost:8080/",
          "height": 451
        },
        "id": "REq8FaBrwPcw",
        "outputId": "86a6d032-5d1a-4fa1-8220-98700982a154"
      },
      "source": [
        "roc_auc_analysis(best_rf_model, test_x, test_y)"
      ],
      "execution_count": 239,
      "outputs": [
        {
          "output_type": "display_data",
          "data": {
            "image/png": "[encoded data removed]",
            "text/plain": [
              "<Figure size 432x288 with 1 Axes>"
            ]
          },
          "metadata": {
            "tags": [],
            "needs_background": "light"
          }
        },
        {
          "output_type": "stream",
          "text": [
            "first three predicted probabilities:  [0.0, 0.0, 0.0]\n",
            "roc_auc_score:  0.9963133640552995\n",
            "Youden index:  0.235\n",
            "first three youden predicted results:  [0, 0, 0]\n",
            "accuracy after apply youden index:  0.9935275080906149\n",
            "precision:  0.9696969696969697\n",
            "recall:  0.9675324675324675\n",
            "top 5 features:  [('atrial_fibrillation_0', 0.0591), ('atrial_fibrillation_1', 0.0577), ('malaise_and_fatigue_0', 0.0573), ('malaise_and_fatigue_1', 0.0562), ('pure_hypercholesterolemia_0', 0.0461)]\n"
          ],
          "name": "stdout"
        }
      ]
    },
    {
      "cell_type": "markdown",
      "metadata": {
        "id": "Y-mEi3CXvw34"
      },
      "source": [
        "##Plot Confusion matrix"
      ]
    },
    {
      "cell_type": "code",
      "metadata": {
        "colab": {
          "base_uri": "https://localhost:8080/",
          "height": 279
        },
        "id": "xyU6OR0fsy1O",
        "outputId": "a78c6506-47df-45f3-e377-3a7433d1a708"
      },
      "source": [
        "#Plot Confusion matrix\n",
        "from sklearn.metrics import confusion_matrix\n",
        "from sklearn.metrics import plot_confusion_matrix\n",
        "\n",
        "plot_confusion_matrix(best_rf_model, test_x, test_y);\n",
        "plt.grid(False)"
      ],
      "execution_count": 240,
      "outputs": [
        {
          "output_type": "display_data",
          "data": {
            "image/png": "[encoded data removed]",
            "text/plain": [
              "<Figure size 432x288 with 2 Axes>"
            ]
          },
          "metadata": {
            "tags": [],
            "needs_background": "light"
          }
        }
      ]
    },
    {
      "cell_type": "markdown",
      "metadata": {
        "id": "TLDETOuiwmCH"
      },
      "source": [
        "###Best estimator features"
      ]
    },
    {
      "cell_type": "code",
      "metadata": {
        "colab": {
          "base_uri": "https://localhost:8080/",
          "height": 510
        },
        "id": "mT_uKbAVstqy",
        "outputId": "63289dd5-3aca-4281-a736-41c79ae1932c"
      },
      "source": [
        "# Extract top 10 contributing features \n",
        "f_imp = sorted(zip(best_rf_model.feature_importances_, new_feature_names))[::-1][:20]\n",
        "\n",
        "# plot feature importance\n",
        "import matplotlib.pyplot as plt\n",
        "import seaborn as sns\n",
        "\n",
        "sns.set(rc={'lines.linewidth': 1, 'lines.markersize': 10})\n",
        "sns.set(style=\"darkgrid\", font_scale=1.1)\n",
        "\n",
        "plt.figure(figsize=(5, 8))\n",
        "\n",
        "plt.barh([i[1] for i in f_imp], [i[0] for i in f_imp])\n",
        "plt.xlabel('Importance', fontsize=18)\n",
        "plt.ylabel('Feature', fontsize=18)\n",
        "plt.show()\n"
      ],
      "execution_count": 242,
      "outputs": [
        {
          "output_type": "display_data",
          "data": {
            "image/png": "[encoded data removed]",
            "text/plain": [
              "<Figure size 360x576 with 1 Axes>"
            ]
          },
          "metadata": {
            "tags": []
          }
        }
      ]
    }
  ]
}