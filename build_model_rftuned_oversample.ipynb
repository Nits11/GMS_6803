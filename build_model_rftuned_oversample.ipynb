{
  "nbformat": 4,
  "nbformat_minor": 0,
  "metadata": {
    "kernelspec": {
      "display_name": "Python 3.7.4 64-bit ('anaconda3': virtualenv)",
      "language": "python",
      "name": "python37464bitanaconda3virtualenvf9ce4a0965a64fbebe76181975554e24"
    },
    "language_info": {
      "codemirror_mode": {
        "name": "ipython",
        "version": 3
      },
      "file_extension": ".py",
      "mimetype": "text/x-python",
      "name": "python",
      "nbconvert_exporter": "python",
      "pygments_lexer": "ipython3",
      "version": "3.7.4"
    },
    "colab": {
      "name": "build_model.ipynb",
      "provenance": [],
      "include_colab_link": true
    }
  },
  "cells": [
    {
      "cell_type": "markdown",
      "metadata": {
        "id": "view-in-github",
        "colab_type": "text"
      },
      "source": [
        "<a href=\"https://colab.research.google.com/github/Nits11/GMS_6803/blob/master/build_model_rftuned_oversample.ipynb\" target=\"_parent\"><img src=\"https://colab.research.google.com/assets/colab-badge.svg\" alt=\"Open In Colab\"/></a>"
      ]
    },
    {
      "cell_type": "code",
      "metadata": {
        "id": "PAPl_khL42yr"
      },
      "source": [
        "import sklearn\n",
        "import scipy\n",
        "import pandas as pd\n",
        "import numpy as np\n",
        "from sklearn.linear_model import LogisticRegression\n",
        "from sklearn.svm import SVC\n",
        "from sklearn.ensemble import RandomForestClassifier\n",
        "from xgboost import XGBClassifier\n",
        "from sklearn import model_selection\n",
        "from sklearn.utils import class_weight\n",
        "from sklearn.model_selection import cross_val_predict\n",
        "from sklearn.svm import LinearSVC\n",
        "from sklearn.metrics import plot_confusion_matrix\n",
        "from pprint import pprint\n",
        "from sklearn.model_selection import GridSearchCV\n",
        "from sklearn.model_selection import RandomizedSearchCV\n",
        "from imblearn.over_sampling import RandomOverSampler\n",
        "from sklearn.pipeline import Pipeline, make_pipeline\n",
        "from imblearn.pipeline import Pipeline, make_pipeline\n",
        "# hide annoying convergence warning for logistic regression\n",
        "# due to one hot encoding\n",
        "import warnings\n",
        "warnings.simplefilter('ignore')"
      ],
      "execution_count": 2,
      "outputs": []
    },
    {
      "cell_type": "markdown",
      "metadata": {
        "id": "gbyoUb3B42yu"
      },
      "source": [
        "### Load train data"
      ]
    },
    {
      "cell_type": "code",
      "metadata": {
        "id": "fW0UJ21l42yu"
      },
      "source": [
        "X_train = pd.read_csv(\"data/x_train.csv\")\n",
        "y_train = pd.read_csv(\"data/y_train.csv\")"
      ],
      "execution_count": 4,
      "outputs": []
    },
    {
      "cell_type": "markdown",
      "metadata": {
        "id": "cupQVhHb42yu"
      },
      "source": [
        "### Perform Oversampling on Train data\n",
        "\n",
        "Possilbe sources of information\n",
        "1. https://machinelearningmastery.com/random-oversampling-and-undersampling-for-imbalanced-classification/\n",
        "\n",
        "2. https://ieeexplore.ieee.org/document/8492368\n",
        "\n",
        "Oversample minority class to have 80% of the number of observations as the majority class\n",
        "Safeguard to ensure that model would still be able to detect a signal in the minority class and generalize to new data\n",
        "\n",
        "Downside is that oversampling is also performed on the heldout set in cv. This effect is seen in the differences in `test_balanced_accuracy` when comparing models"
      ]
    },
    {
      "cell_type": "code",
      "metadata": {
        "scrolled": true,
        "id": "llM6uzGk42yu"
      },
      "source": [
        "oversample = RandomOverSampler(sampling_strategy=0.8, random_state=42)\n",
        "X_train_oversample, y_train_oversample = oversample.fit_resample(\n",
        "    X_train, y_train)"
      ],
      "execution_count": 5,
      "outputs": []
    },
    {
      "cell_type": "code",
      "metadata": {
        "id": "hxy9kxQm42yu",
        "colab": {
          "base_uri": "https://localhost:8080/"
        },
        "outputId": "53810944-a038-4221-e239-d54e50b7d6f6"
      },
      "source": [
        "print(\"Distribution of train set before and after oversampling\")\n",
        "print(\"X_train:\", X_train.shape)\n",
        "print(\"X_train_oversample:\", X_train_oversample.shape)\n",
        "print(\"y_train:\", y_train.shape)\n",
        "print(\"y_train_oversample:\", y_train_oversample.shape)"
      ],
      "execution_count": 6,
      "outputs": [
        {
          "output_type": "stream",
          "text": [
            "Distribution of train set before and after oversampling\n",
            "X_train: (745, 48)\n",
            "X_train_oversample: (1110, 48)\n",
            "y_train: (745, 1)\n",
            "y_train_oversample: (1110,)\n"
          ],
          "name": "stdout"
        }
      ]
    },
    {
      "cell_type": "code",
      "metadata": {
        "id": "_Y6eYTsz42yu",
        "colab": {
          "base_uri": "https://localhost:8080/"
        },
        "outputId": "e78c37d0-dccf-45a9-eafb-f654adee618c"
      },
      "source": [
        "print(\"Distribution of Diabetes in Train Set\")\n",
        "y_train.value_counts()"
      ],
      "execution_count": 7,
      "outputs": [
        {
          "output_type": "stream",
          "text": [
            "Distribution of Diabetes in Train Set\n"
          ],
          "name": "stdout"
        },
        {
          "output_type": "execute_result",
          "data": {
            "text/plain": [
              "diabetes\n",
              "1           617\n",
              "0           128\n",
              "dtype: int64"
            ]
          },
          "metadata": {
            "tags": []
          },
          "execution_count": 7
        }
      ]
    },
    {
      "cell_type": "code",
      "metadata": {
        "id": "zzyqCCjE42yv",
        "colab": {
          "base_uri": "https://localhost:8080/"
        },
        "outputId": "75ec8fa7-ed4e-41fa-b6db-088584efedb2"
      },
      "source": [
        "print(\"Distribution of Diabetes in Oversampled Train Set\")\n",
        "pd.DataFrame(y_train_oversample).value_counts()"
      ],
      "execution_count": 9,
      "outputs": [
        {
          "output_type": "stream",
          "text": [
            "Distribution of Diabetes in Oversampled Train Set\n"
          ],
          "name": "stdout"
        },
        {
          "output_type": "execute_result",
          "data": {
            "text/plain": [
              "1    617\n",
              "0    493\n",
              "dtype: int64"
            ]
          },
          "metadata": {
            "tags": []
          },
          "execution_count": 9
        }
      ]
    },
    {
      "cell_type": "markdown",
      "metadata": {
        "id": "_iA2gMGj42yv"
      },
      "source": [
        "### Create CV splits and Specify Model Metrics\n",
        "\n",
        "Possible source of information as to why CV is done\n",
        "1. https://machinelearningmastery.com/random-oversampling-and-undersampling-for-imbalanced-classification/"
      ]
    },
    {
      "cell_type": "code",
      "metadata": {
        "id": "8aq40QmI42yv"
      },
      "source": [
        "metrics = ['precision', 'recall', 'f1', 'roc_auc', 'balanced_accuracy']\n",
        "\n",
        "scoring_metrics = ['test_' + x for x in metrics]\n",
        "\n",
        "# needs to be outside function to ensure every model uses the same cv splits for measuring model performance\n",
        "kfold = model_selection.StratifiedKFold(n_splits=5)"
      ],
      "execution_count": 10,
      "outputs": []
    },
    {
      "cell_type": "markdown",
      "metadata": {
        "id": "CKIgBq6V42yv"
      },
      "source": [
        "### Create function that accepts a given model and returns the metrics from Cross-Validation\n",
        "\n",
        "The function fits a model to k-1 subsets of each resample and evaluates on the kth subset from each resample. thus for 5-fold CV the model is trained on 4 folds and tested on the fifth fold. This process is repeated 4 more times and the average of each metric across the 5 folds is calculated."
      ]
    },
    {
      "cell_type": "code",
      "metadata": {
        "id": "0g5_nrFz42yv"
      },
      "source": [
        "# create function to return cv results for a given model\n",
        "def get_model_metrics(model, train_features, train_labels, model_name, over_sampling):\n",
        "\n",
        "    cv_results = model_selection.cross_validate(\n",
        "        model, train_features, train_labels, cv=kfold, scoring=metrics)\n",
        "\n",
        "    df = pd.DataFrame(\n",
        "        columns=['Algorithm', 'Over Sampling', 'Metric', 'Value'])\n",
        "\n",
        "    for metric in scoring_metrics:\n",
        "        score_value = round(cv_results[metric].mean(), 2)\n",
        "        df = df.append({'Algorithm': model_name, 'Over Sampling': over_sampling, 'Metric': metric, 'Value': score_value},\n",
        "                       ignore_index=True)\n",
        "\n",
        "    return(df)\n"
      ],
      "execution_count": 11,
      "outputs": []
    },
    {
      "cell_type": "markdown",
      "metadata": {
        "id": "G-njf1NB42yv"
      },
      "source": [
        "#### Test different models\n"
      ]
    },
    {
      "cell_type": "code",
      "metadata": {
        "id": "CoqDjsT742yv"
      },
      "source": [
        "log_reg_model = get_model_metrics(LogisticRegression(random_state=42), X_train, y_train, 'logistic regression', \"No\")\n",
        "\n",
        "oversample_log_reg_model = get_model_metrics(LogisticRegression(random_state=42), X_train_oversample, y_train_oversample, 'logistic regression', \"Yes\")"
      ],
      "execution_count": 12,
      "outputs": []
    },
    {
      "cell_type": "code",
      "metadata": {
        "id": "P4ROlaNF42yv"
      },
      "source": [
        "svm_model = get_model_metrics(\n",
        "    SVC(kernel='linear', random_state=42), X_train, y_train, \"svm (linear kernel)\", \"No\")\n",
        "\n",
        "oversample_svm_model = get_model_metrics(SVC(\n",
        "    kernel='linear', random_state=42), X_train_oversample, y_train_oversample, \"svm (linear kernel)\", \"Yes\")"
      ],
      "execution_count": 13,
      "outputs": []
    },
    {
      "cell_type": "code",
      "metadata": {
        "id": "m-tkS3z642yv"
      },
      "source": [
        "xgb_model = get_model_metrics(\n",
        "    XGBClassifier(random_state=42), X_train, y_train, \"xgboost\", \"No\")\n",
        "oversample_xgb_model = get_model_metrics(\n",
        "    XGBClassifier(random_state=42), X_train_oversample, y_train_oversample, \"xgboost\", \"Yes\")"
      ],
      "execution_count": 14,
      "outputs": []
    },
    {
      "cell_type": "code",
      "metadata": {
        "id": "7Qv5iqm_42yv"
      },
      "source": [
        "rf_model = get_model_metrics(\n",
        "    RandomForestClassifier(random_state=42), X_train, y_train, \"random forest\", \"No\")\n",
        "oversample_rf_model = get_model_metrics(RandomForestClassifier(random_state=42), X_train_oversample, y_train_oversample, \"random forest\", \"Yes\")"
      ],
      "execution_count": 15,
      "outputs": []
    },
    {
      "cell_type": "markdown",
      "metadata": {
        "id": "N0rDwJXMEQ2b"
      },
      "source": [
        "#### Hyperparameters Fine-tuning\n",
        "Fine-tuning of any ML model involves an iterative searching for finding a set of hyper-parameters which can optimize the model performance during training/validation process. This search can be a Randomized search  for a given number of iterations in the provided hyper-parameter search space for generating best model performance (on provided scoring criteria). \n",
        "\n",
        "Alternatively, a more exhaustive search can be performed for all combinations of the provided grid of parameters aimed to optimize the model performance. \n",
        "\n",
        "\n",
        "Selection of parameters for fine-tuning is model- specific and for random forest involves multiple features related to number of decisions trees and considered features during node- splitting. The whole process is a try and learn exercise and not necessarily results in model with improved performance from default.\n",
        "\n"
      ]
    },
    {
      "cell_type": "markdown",
      "metadata": {
        "id": "unj3XYIF42yv"
      },
      "source": [
        "#### Hyperparameter tuning of random forest\n",
        "Hyper parameter tuning for Random forest was explored using ‘RandomizedSearchCV’ function for 50 iterations available in Scikit-Learn library with cross-validation on training data for the following hyperparameters: \n",
        "*\tn_estimators = number of trees to build before taking maximum/average prediction voting, higher number , slow tree convergence\n",
        "*\tmax_features = maximum number of features considered for splitting a node\n",
        "*\tmax_depth = maximum number of levels in each decision tree\n",
        "*\tmin_samples_split = minimum number of data points placed in a node before splitting \n",
        "*\tmin_samples_leaf = minimum number of data points allowed in a leaf node\n",
        "*\tbootstrap = method for sampling data points, with or without replacement\n",
        "*\tcriterion = Scoring method for estimating the quality of node splitting ,  commonly used are ‘gini’ (uses the Gini impurity) or “entropy”(uses information gain Entropy)\n",
        "\n",
        "Performance of the Tuned model was compared with default model  and is enumerated in the table."
      ]
    },
    {
      "cell_type": "code",
      "metadata": {
        "id": "Nt84nAYw42yv",
        "colab": {
          "base_uri": "https://localhost:8080/"
        },
        "outputId": "f2524a81-4013-41e9-fab6-fe3d321fc42e"
      },
      "source": [
        "print(\"Default values for random forest\")\n",
        "pprint(RandomForestClassifier().get_params())"
      ],
      "execution_count": 16,
      "outputs": [
        {
          "output_type": "stream",
          "text": [
            "Default values for random forest\n",
            "{'bootstrap': True,\n",
            " 'ccp_alpha': 0.0,\n",
            " 'class_weight': None,\n",
            " 'criterion': 'gini',\n",
            " 'max_depth': None,\n",
            " 'max_features': 'auto',\n",
            " 'max_leaf_nodes': None,\n",
            " 'max_samples': None,\n",
            " 'min_impurity_decrease': 0.0,\n",
            " 'min_impurity_split': None,\n",
            " 'min_samples_leaf': 1,\n",
            " 'min_samples_split': 2,\n",
            " 'min_weight_fraction_leaf': 0.0,\n",
            " 'n_estimators': 100,\n",
            " 'n_jobs': None,\n",
            " 'oob_score': False,\n",
            " 'random_state': None,\n",
            " 'verbose': 0,\n",
            " 'warm_start': False}\n"
          ],
          "name": "stdout"
        }
      ]
    },
    {
      "cell_type": "markdown",
      "metadata": {
        "id": "MJ6i_FMG42yv"
      },
      "source": [
        "Initiate the random grid search"
      ]
    },
    {
      "cell_type": "code",
      "metadata": {
        "id": "_pLgLdwm42yv"
      },
      "source": [
        "random_grid = {'n_estimators': [200, 400, 600, 800, 1000, 1200, 1400, 1600, 1800, 2000],\n",
        "               'max_features': ['auto', 'sqrt'],\n",
        "               'max_depth': [10, 20, 30, 40, 50, 60, 70, 80, 90, 100, None],\n",
        "               'min_samples_split': [ 5, 10],\n",
        "               'min_samples_leaf': [4, 6, 10],\n",
        "               'bootstrap': [True, False],\n",
        "               'criterion' : ['gini', 'entropy']\n",
        "               }\n",
        "\n",
        "# use the random grid to search for best hyperparameters\n",
        "# random search of parameters, using 5 fold cross validation\n",
        "# search across 50 different combinations\n",
        "rf_random = RandomizedSearchCV(estimator=RandomForestClassifier(random_state=42), param_distributions=random_grid,\n",
        "                               scoring='balanced_accuracy', n_iter=100, cv=kfold, random_state=42, n_jobs=-1)"
      ],
      "execution_count": 17,
      "outputs": []
    },
    {
      "cell_type": "markdown",
      "metadata": {
        "id": "lRYBrhys42yv"
      },
      "source": [
        "Perform the randomized search for combinations of given grid parameters and for 100 iterations"
      ]
    },
    {
      "cell_type": "code",
      "metadata": {
        "id": "CRjwXGPR42yv",
        "colab": {
          "base_uri": "https://localhost:8080/"
        },
        "outputId": "5655eb4d-4d39-453c-bb5a-554933a0a87f"
      },
      "source": [
        "# Fit the random search model\n",
        "rf_random.fit(X_train, y_train)\n",
        "\n"
      ],
      "execution_count": 20,
      "outputs": [
        {
          "output_type": "stream",
          "text": [
            "Balanced Accuracy was the scoring metric used in the grid search\n"
          ],
          "name": "stdout"
        },
        {
          "output_type": "execute_result",
          "data": {
            "text/plain": [
              "{'bootstrap': True,\n",
              " 'criterion': 'gini',\n",
              " 'max_depth': 80,\n",
              " 'max_features': 'sqrt',\n",
              " 'min_samples_leaf': 4,\n",
              " 'min_samples_split': 10,\n",
              " 'n_estimators': 400}"
            ]
          },
          "metadata": {
            "tags": []
          },
          "execution_count": 20
        }
      ]
    },
    {
      "cell_type": "code",
      "metadata": {
        "colab": {
          "base_uri": "https://localhost:8080/"
        },
        "id": "MqLKL2-NWlec",
        "outputId": "8416b9b9-425d-41da-8ad2-a1aa0e21e79e"
      },
      "source": [
        "# show the best hypermaters\n",
        "print(\"Balanced Accuracy was the scoring metric used in the grid search\")\n",
        "rf_random.best_params_"
      ],
      "execution_count": 21,
      "outputs": [
        {
          "output_type": "stream",
          "text": [
            "Balanced Accuracy was the scoring metric used in the grid search\n"
          ],
          "name": "stdout"
        },
        {
          "output_type": "execute_result",
          "data": {
            "text/plain": [
              "{'bootstrap': True,\n",
              " 'criterion': 'gini',\n",
              " 'max_depth': 80,\n",
              " 'max_features': 'sqrt',\n",
              " 'min_samples_leaf': 4,\n",
              " 'min_samples_split': 10,\n",
              " 'n_estimators': 400}"
            ]
          },
          "metadata": {
            "tags": []
          },
          "execution_count": 21
        }
      ]
    },
    {
      "cell_type": "markdown",
      "metadata": {
        "id": "VDDnhNmE42yv"
      },
      "source": [
        "Use the best hypermaters returned from the Randomised grid search on the train data"
      ]
    },
    {
      "cell_type": "code",
      "metadata": {
        "id": "9Ixl5nR742yv"
      },
      "source": [
        "rf_tune = RandomForestClassifier(random_state=42, bootstrap=True, criterion= 'gini', max_depth=80, max_features='sqrt',\n",
        "                                 min_samples_leaf=4, min_samples_split=10, n_estimators=400)"
      ],
      "execution_count": 28,
      "outputs": []
    },
    {
      "cell_type": "markdown",
      "metadata": {
        "id": "mrXT1SfZ42yv"
      },
      "source": [
        "Perform Randomised grid search on the oversampled train set"
      ]
    },
    {
      "cell_type": "code",
      "metadata": {
        "id": "Oa7CsW_c42yv",
        "colab": {
          "base_uri": "https://localhost:8080/"
        },
        "outputId": "64e3aaa5-cf4e-426b-a2ad-0e05f89209a6"
      },
      "source": [
        "rf_random.fit(X_train_oversample, y_train_oversample)\n",
        "pprint(rf_random.best_params_)"
      ],
      "execution_count": 22,
      "outputs": [
        {
          "output_type": "stream",
          "text": [
            "{'bootstrap': False,\n",
            " 'criterion': 'gini',\n",
            " 'max_depth': 20,\n",
            " 'max_features': 'auto',\n",
            " 'min_samples_leaf': 4,\n",
            " 'min_samples_split': 5,\n",
            " 'n_estimators': 1000}\n"
          ],
          "name": "stdout"
        }
      ]
    },
    {
      "cell_type": "code",
      "metadata": {
        "colab": {
          "base_uri": "https://localhost:8080/"
        },
        "id": "Z2BzMwxIdImt",
        "outputId": "76384968-0203-499f-9c75-8c19010f1ad1"
      },
      "source": [
        "rf_tune.fit(X_train_oversample, y_train_oversample)"
      ],
      "execution_count": 29,
      "outputs": [
        {
          "output_type": "execute_result",
          "data": {
            "text/plain": [
              "RandomForestClassifier(bootstrap=True, ccp_alpha=0.0, class_weight=None,\n",
              "                       criterion='gini', max_depth=80, max_features='sqrt',\n",
              "                       max_leaf_nodes=None, max_samples=None,\n",
              "                       min_impurity_decrease=0.0, min_impurity_split=None,\n",
              "                       min_samples_leaf=4, min_samples_split=10,\n",
              "                       min_weight_fraction_leaf=0.0, n_estimators=400,\n",
              "                       n_jobs=None, oob_score=False, random_state=42, verbose=0,\n",
              "                       warm_start=False)"
            ]
          },
          "metadata": {
            "tags": []
          },
          "execution_count": 29
        }
      ]
    },
    {
      "cell_type": "markdown",
      "metadata": {
        "id": "ML8AEqXj42yv"
      },
      "source": [
        "Use the best hypermaters returned from the Randomised grid search on the oversampled train data"
      ]
    },
    {
      "cell_type": "code",
      "metadata": {
        "id": "Zq8iSgHN42yv"
      },
      "source": [
        "oversample_rf_tune = RandomForestClassifier(random_state=42, bootstrap=True, criterion= 'entropy', max_depth=80, max_features='auto',\n",
        "                                 min_samples_leaf=4, min_samples_split=2, n_estimators=1200)"
      ],
      "execution_count": 30,
      "outputs": []
    },
    {
      "cell_type": "code",
      "metadata": {
        "id": "-mEsOCLE42yv"
      },
      "source": [
        "rf_model_tuned = get_model_metrics(\n",
        "    rf_tune, X_train, y_train, \"random forest (tuned)\", \"No\")\n",
        "\n",
        "oversample_rf_model_tuned = get_model_metrics(\n",
        "    oversample_rf_tune, X_train_oversample, y_train_oversample, \"random forest (tuned)\", \"Yes\")"
      ],
      "execution_count": 34,
      "outputs": []
    },
    {
      "cell_type": "markdown",
      "metadata": {
        "id": "WL8pFbbb42yv"
      },
      "source": [
        "### Compare the cross validation metrics across all models \n",
        "This table compares the evaluation metrics on the heldout fold from cross-validation for multiple models. The table is sorted in descending order of `test_balanced_accuracy`.\n",
        "\n",
        "If we care more about detecting cases than controls use F1. If we care about both use balanced accuracy.\n",
        "\n",
        "Possible sources of info for which metrics to choose:\n",
        "1. https://developers.google.com/machine-learning/crash-course/classification/precision-and-recall \n",
        "\n",
        "2. http://mvpa.blogspot.com/2015/12/balanced-accuracy-what-and-why.html#:~:text=Balanced%20accuracy%20is%20calculated%20as,of%20examples%20in%20each%20class."
      ]
    },
    {
      "cell_type": "code",
      "metadata": {
        "id": "IiTxAZHS42yv",
        "colab": {
          "base_uri": "https://localhost:8080/",
          "height": 478
        },
        "outputId": "f0c24c19-28a3-4dfd-aaea-1bcd9e86670c"
      },
      "source": [
        "compare_models = (pd.concat([log_reg_model, oversample_log_reg_model, \n",
        "                            xgb_model, oversample_xgb_model,\n",
        "                            svm_model, oversample_svm_model,\n",
        "                            rf_model, oversample_rf_model,\n",
        "                            rf_model_tuned, oversample_rf_model_tuned])\n",
        "                    .pivot(index=['Algorithm','Over Sampling'], columns='Metric', values='Value')\n",
        "                    .reset_index()\n",
        "                    .sort_values(by='test_balanced_accuracy', ascending=False)\n",
        ")\n",
        "\n",
        "compare_models.rename_axis(None, axis=1)"
      ],
      "execution_count": 35,
      "outputs": [
        {
          "output_type": "execute_result",
          "data": {
            "text/html": [
              "<div>\n",
              "<style scoped>\n",
              "    .dataframe tbody tr th:only-of-type {\n",
              "        vertical-align: middle;\n",
              "    }\n",
              "\n",
              "    .dataframe tbody tr th {\n",
              "        vertical-align: top;\n",
              "    }\n",
              "\n",
              "    .dataframe thead th {\n",
              "        text-align: right;\n",
              "    }\n",
              "</style>\n",
              "<table border=\"1\" class=\"dataframe\">\n",
              "  <thead>\n",
              "    <tr style=\"text-align: right;\">\n",
              "      <th></th>\n",
              "      <th>Algorithm</th>\n",
              "      <th>Over Sampling</th>\n",
              "      <th>test_balanced_accuracy</th>\n",
              "      <th>test_f1</th>\n",
              "      <th>test_precision</th>\n",
              "      <th>test_recall</th>\n",
              "      <th>test_roc_auc</th>\n",
              "    </tr>\n",
              "  </thead>\n",
              "  <tbody>\n",
              "    <tr>\n",
              "      <th>3</th>\n",
              "      <td>random forest</td>\n",
              "      <td>Yes</td>\n",
              "      <td>0.96</td>\n",
              "      <td>0.96</td>\n",
              "      <td>0.99</td>\n",
              "      <td>0.92</td>\n",
              "      <td>1.00</td>\n",
              "    </tr>\n",
              "    <tr>\n",
              "      <th>9</th>\n",
              "      <td>xgboost</td>\n",
              "      <td>Yes</td>\n",
              "      <td>0.92</td>\n",
              "      <td>0.92</td>\n",
              "      <td>0.95</td>\n",
              "      <td>0.90</td>\n",
              "      <td>0.96</td>\n",
              "    </tr>\n",
              "    <tr>\n",
              "      <th>5</th>\n",
              "      <td>random forest (tuned)</td>\n",
              "      <td>Yes</td>\n",
              "      <td>0.90</td>\n",
              "      <td>0.91</td>\n",
              "      <td>0.92</td>\n",
              "      <td>0.90</td>\n",
              "      <td>0.97</td>\n",
              "    </tr>\n",
              "    <tr>\n",
              "      <th>1</th>\n",
              "      <td>logistic regression</td>\n",
              "      <td>Yes</td>\n",
              "      <td>0.86</td>\n",
              "      <td>0.87</td>\n",
              "      <td>0.89</td>\n",
              "      <td>0.85</td>\n",
              "      <td>0.92</td>\n",
              "    </tr>\n",
              "    <tr>\n",
              "      <th>7</th>\n",
              "      <td>svm (linear kernel)</td>\n",
              "      <td>Yes</td>\n",
              "      <td>0.85</td>\n",
              "      <td>0.86</td>\n",
              "      <td>0.89</td>\n",
              "      <td>0.84</td>\n",
              "      <td>0.92</td>\n",
              "    </tr>\n",
              "    <tr>\n",
              "      <th>4</th>\n",
              "      <td>random forest (tuned)</td>\n",
              "      <td>No</td>\n",
              "      <td>0.77</td>\n",
              "      <td>0.94</td>\n",
              "      <td>0.92</td>\n",
              "      <td>0.96</td>\n",
              "      <td>0.91</td>\n",
              "    </tr>\n",
              "    <tr>\n",
              "      <th>6</th>\n",
              "      <td>svm (linear kernel)</td>\n",
              "      <td>No</td>\n",
              "      <td>0.77</td>\n",
              "      <td>0.92</td>\n",
              "      <td>0.92</td>\n",
              "      <td>0.91</td>\n",
              "      <td>0.90</td>\n",
              "    </tr>\n",
              "    <tr>\n",
              "      <th>2</th>\n",
              "      <td>random forest</td>\n",
              "      <td>No</td>\n",
              "      <td>0.76</td>\n",
              "      <td>0.93</td>\n",
              "      <td>0.91</td>\n",
              "      <td>0.95</td>\n",
              "      <td>0.90</td>\n",
              "    </tr>\n",
              "    <tr>\n",
              "      <th>8</th>\n",
              "      <td>xgboost</td>\n",
              "      <td>No</td>\n",
              "      <td>0.76</td>\n",
              "      <td>0.93</td>\n",
              "      <td>0.92</td>\n",
              "      <td>0.94</td>\n",
              "      <td>0.90</td>\n",
              "    </tr>\n",
              "    <tr>\n",
              "      <th>0</th>\n",
              "      <td>logistic regression</td>\n",
              "      <td>No</td>\n",
              "      <td>0.74</td>\n",
              "      <td>0.92</td>\n",
              "      <td>0.91</td>\n",
              "      <td>0.93</td>\n",
              "      <td>0.90</td>\n",
              "    </tr>\n",
              "  </tbody>\n",
              "</table>\n",
              "</div>"
            ],
            "text/plain": [
              "               Algorithm Over Sampling  ...  test_recall  test_roc_auc\n",
              "3          random forest           Yes  ...         0.92          1.00\n",
              "9                xgboost           Yes  ...         0.90          0.96\n",
              "5  random forest (tuned)           Yes  ...         0.90          0.97\n",
              "1    logistic regression           Yes  ...         0.85          0.92\n",
              "7    svm (linear kernel)           Yes  ...         0.84          0.92\n",
              "4  random forest (tuned)            No  ...         0.96          0.91\n",
              "6    svm (linear kernel)            No  ...         0.91          0.90\n",
              "2          random forest            No  ...         0.95          0.90\n",
              "8                xgboost            No  ...         0.94          0.90\n",
              "0    logistic regression            No  ...         0.93          0.90\n",
              "\n",
              "[10 rows x 7 columns]"
            ]
          },
          "metadata": {
            "tags": []
          },
          "execution_count": 35
        }
      ]
    },
    {
      "cell_type": "markdown",
      "metadata": {
        "id": "qNf0ZXCM42yv"
      },
      "source": [
        "### Load the Test Set"
      ]
    },
    {
      "cell_type": "code",
      "metadata": {
        "id": "OQncsXQv42yv",
        "colab": {
          "base_uri": "https://localhost:8080/"
        },
        "outputId": "2f5830ed-7325-421d-cca5-8bc8a839bdfe"
      },
      "source": [
        "# load the test data\n",
        "X_test = pd.read_csv(\"data/x_test.csv\")\n",
        "y_test = pd.read_csv(\"data/y_test.csv\")\n",
        "\n",
        "print(X_test.shape)\n",
        "print(y_test.shape)"
      ],
      "execution_count": 37,
      "outputs": [
        {
          "output_type": "stream",
          "text": [
            "(185, 48)\n",
            "(185, 1)\n"
          ],
          "name": "stdout"
        }
      ]
    },
    {
      "cell_type": "markdown",
      "metadata": {
        "id": "qskNOt0342yv"
      },
      "source": [
        "### Choose the best model\n",
        "\n",
        "__This was my opinion of the results. Can you all specificy what you think will be the best model based on your perception of the metrics and prediction goals. I'm focused on being able to predict both classes properly. Some people may be focused on predicting only the positive class correctly__.\n",
        "\n",
        "From the metrics table the two random forest models fit to the oversampled train set had the highest balanced accuracy but the ROCAUC scores for both of these models was 1. These models may be overfitting on the traing data. The xgboost model performance on the oversampled train data had a balanced accuracy score of 0.95. Additionally, all other metrics for this model was above 0.95 except for the recall. This model may have also been overfitted to the training data but to a lesser degree than the random forest models. Thus, xgboost might be able to generalize better to new data when compared to the random forest model. xgboost will be used as the final model based on these finding.\n",
        "\n",
        " "
      ]
    },
    {
      "cell_type": "markdown",
      "metadata": {
        "id": "mY81ptET42yv"
      },
      "source": [
        "#### Fit the best model to the full oversampled train data then predict using the test data"
      ]
    },
    {
      "cell_type": "code",
      "metadata": {
        "id": "YhMLb-h-42yv"
      },
      "source": [
        "best_model = RandomForestClassifier(random_state=42, bootstrap=True, criterion= 'entropy', max_depth=80, max_features='auto',\n",
        "                                 min_samples_leaf=4, min_samples_split=2, n_estimators=1200)\n",
        "\n",
        "model_fit_on_train = best_model.fit(X_train_oversample, y_train_oversample)\n",
        "\n",
        "y_pred_class = model_fit_on_train.predict(X_test)"
      ],
      "execution_count": 44,
      "outputs": []
    },
    {
      "cell_type": "code",
      "metadata": {
        "id": "-Z5NSsyI42yw",
        "colab": {
          "base_uri": "https://localhost:8080/"
        },
        "outputId": "4a70974d-7445-4642-fb4d-c2db3de15546"
      },
      "source": [
        "from sklearn import metrics\n",
        "print(\"Performance on test set\")\n",
        "print(\"F1:\", metrics.f1_score(y_test, y_pred_class).round(2))\n",
        "print(\"Precision:\", metrics.precision_score(y_test, y_pred_class).round(2))\n",
        "print(\"Recall:\", metrics.recall_score(y_test, y_pred_class).round(2))\n",
        "print(\"ROC-AUC:\", metrics.roc_auc_score(y_test, y_pred_class).round(2))\n",
        "print(\"Balanced Accuracy:\", metrics.balanced_accuracy_score(\n",
        "    y_test, y_pred_class).round(2))"
      ],
      "execution_count": 45,
      "outputs": [
        {
          "output_type": "stream",
          "text": [
            "Performance on test set\n",
            "F1: 0.94\n",
            "Precision: 0.93\n",
            "Recall: 0.95\n",
            "ROC-AUC: 0.8\n",
            "Balanced Accuracy: 0.8\n"
          ],
          "name": "stdout"
        }
      ]
    },
    {
      "cell_type": "code",
      "metadata": {
        "id": "wLmFbJYQ42yw",
        "colab": {
          "base_uri": "https://localhost:8080/",
          "height": 296
        },
        "outputId": "e31453ca-0a93-449b-9086-08b36521bf32"
      },
      "source": [
        "plot_confusion_matrix(model_fit_on_train, X_test, y_test)"
      ],
      "execution_count": 39,
      "outputs": [
        {
          "output_type": "execute_result",
          "data": {
            "text/plain": [
              "<sklearn.metrics._plot.confusion_matrix.ConfusionMatrixDisplay at 0x7f49f873c358>"
            ]
          },
          "metadata": {
            "tags": []
          },
          "execution_count": 39
        },
        {
          "output_type": "display_data",
          "data": {
            "image/png": "[encoded data removed]",
            "text/plain": [
              "<Figure size 432x288 with 2 Axes>"
            ]
          },
          "metadata": {
            "tags": [],
            "needs_background": "light"
          }
        }
      ]
    },
    {
      "cell_type": "code",
      "metadata": {
        "id": "NdgSd0gL42yw",
        "outputId": "7e64432d-9aa6-4dda-8a53-332433c7b8f4"
      },
      "source": [
        "feat_importances = pd.Series(\n",
        "    best_model.feature_importances_, index=X_train_oversample.columns)\n",
        "feature_plot = feat_importances.nlargest(20).sort_values().plot(kind='barh')\n",
        "feature_plot.set_ylabel('Feature', size=10)\n",
        "feature_plot.set_xlabel('Importance', size=10)"
      ],
      "execution_count": null,
      "outputs": [
        {
          "output_type": "execute_result",
          "data": {
            "text/plain": [
              "Text(0.5, 0, 'Importance')"
            ]
          },
          "metadata": {
            "tags": []
          },
          "execution_count": 28
        },
        {
          "output_type": "display_data",
          "data": {
            "image/png": "[encoded data removed]",
            "text/plain": [
              "<Figure size 432x288 with 1 Axes>"
            ]
          },
          "metadata": {
            "tags": [],
            "needs_background": "light"
          }
        }
      ]
    },
    {
      "cell_type": "code",
      "metadata": {
        "id": "0wL1uAlM42yw"
      },
      "source": [
        ""
      ],
      "execution_count": null,
      "outputs": []
    }
  ]
}